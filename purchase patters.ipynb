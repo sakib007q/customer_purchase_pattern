{
 "cells": [
  {
   "cell_type": "code",
   "execution_count": 507,
   "id": "cbb06d4f-9140-4354-bef9-eccac5ad6d36",
   "metadata": {},
   "outputs": [],
   "source": [
    "#importing necessary libraries\n",
    "import numpy as np\n",
    "import pandas as pd\n",
    "import matplotlib.pyplot as plt\n",
    "import seaborn as sns\n",
    "import json"
   ]
  },
  {
   "cell_type": "code",
   "execution_count": 508,
   "id": "d3c0b905-4872-45da-b11c-80c43d669ebb",
   "metadata": {},
   "outputs": [],
   "source": [
    "#importing file limit=1000\n",
    "df=pd.read_csv(\"Retail_Transactions_Dataset.csv\",nrows=1000)"
   ]
  },
  {
   "cell_type": "code",
   "execution_count": 509,
   "id": "2b72cb36-b9b9-4ef9-9eb3-11129149a092",
   "metadata": {},
   "outputs": [
    {
     "data": {
      "text/html": [
       "<div>\n",
       "<style scoped>\n",
       "    .dataframe tbody tr th:only-of-type {\n",
       "        vertical-align: middle;\n",
       "    }\n",
       "\n",
       "    .dataframe tbody tr th {\n",
       "        vertical-align: top;\n",
       "    }\n",
       "\n",
       "    .dataframe thead th {\n",
       "        text-align: right;\n",
       "    }\n",
       "</style>\n",
       "<table border=\"1\" class=\"dataframe\">\n",
       "  <thead>\n",
       "    <tr style=\"text-align: right;\">\n",
       "      <th></th>\n",
       "      <th>Transaction_ID</th>\n",
       "      <th>Date</th>\n",
       "      <th>Customer_Name</th>\n",
       "      <th>Product</th>\n",
       "      <th>Total_Items</th>\n",
       "      <th>Total_Cost</th>\n",
       "      <th>Payment_Method</th>\n",
       "      <th>City</th>\n",
       "      <th>Store_Type</th>\n",
       "      <th>Discount_Applied</th>\n",
       "      <th>Customer_Category</th>\n",
       "      <th>Season</th>\n",
       "      <th>Promotion</th>\n",
       "    </tr>\n",
       "  </thead>\n",
       "  <tbody>\n",
       "    <tr>\n",
       "      <th>0</th>\n",
       "      <td>1000000000</td>\n",
       "      <td>2022-01-21 06:27:29</td>\n",
       "      <td>Stacey Price</td>\n",
       "      <td>['Ketchup', 'Shaving Cream', 'Light Bulbs']</td>\n",
       "      <td>3</td>\n",
       "      <td>71.65</td>\n",
       "      <td>Mobile Payment</td>\n",
       "      <td>Los Angeles</td>\n",
       "      <td>Warehouse Club</td>\n",
       "      <td>True</td>\n",
       "      <td>Homemaker</td>\n",
       "      <td>Winter</td>\n",
       "      <td>NaN</td>\n",
       "    </tr>\n",
       "    <tr>\n",
       "      <th>1</th>\n",
       "      <td>1000000001</td>\n",
       "      <td>2023-03-01 13:01:21</td>\n",
       "      <td>Michelle Carlson</td>\n",
       "      <td>['Ice Cream', 'Milk', 'Olive Oil', 'Bread', 'P...</td>\n",
       "      <td>2</td>\n",
       "      <td>25.93</td>\n",
       "      <td>Cash</td>\n",
       "      <td>San Francisco</td>\n",
       "      <td>Specialty Store</td>\n",
       "      <td>True</td>\n",
       "      <td>Professional</td>\n",
       "      <td>Fall</td>\n",
       "      <td>BOGO (Buy One Get One)</td>\n",
       "    </tr>\n",
       "    <tr>\n",
       "      <th>2</th>\n",
       "      <td>1000000002</td>\n",
       "      <td>2024-03-21 15:37:04</td>\n",
       "      <td>Lisa Graves</td>\n",
       "      <td>['Spinach']</td>\n",
       "      <td>6</td>\n",
       "      <td>41.49</td>\n",
       "      <td>Credit Card</td>\n",
       "      <td>Houston</td>\n",
       "      <td>Department Store</td>\n",
       "      <td>True</td>\n",
       "      <td>Professional</td>\n",
       "      <td>Winter</td>\n",
       "      <td>NaN</td>\n",
       "    </tr>\n",
       "    <tr>\n",
       "      <th>3</th>\n",
       "      <td>1000000003</td>\n",
       "      <td>2020-10-31 09:59:47</td>\n",
       "      <td>Mrs. Patricia May</td>\n",
       "      <td>['Tissues', 'Mustard']</td>\n",
       "      <td>1</td>\n",
       "      <td>39.34</td>\n",
       "      <td>Mobile Payment</td>\n",
       "      <td>Chicago</td>\n",
       "      <td>Pharmacy</td>\n",
       "      <td>True</td>\n",
       "      <td>Homemaker</td>\n",
       "      <td>Spring</td>\n",
       "      <td>NaN</td>\n",
       "    </tr>\n",
       "    <tr>\n",
       "      <th>4</th>\n",
       "      <td>1000000004</td>\n",
       "      <td>2020-12-10 00:59:59</td>\n",
       "      <td>Susan Mitchell</td>\n",
       "      <td>['Dish Soap']</td>\n",
       "      <td>10</td>\n",
       "      <td>16.42</td>\n",
       "      <td>Debit Card</td>\n",
       "      <td>Houston</td>\n",
       "      <td>Specialty Store</td>\n",
       "      <td>False</td>\n",
       "      <td>Young Adult</td>\n",
       "      <td>Winter</td>\n",
       "      <td>Discount on Selected Items</td>\n",
       "    </tr>\n",
       "  </tbody>\n",
       "</table>\n",
       "</div>"
      ],
      "text/plain": [
       "   Transaction_ID                 Date      Customer_Name  \\\n",
       "0      1000000000  2022-01-21 06:27:29       Stacey Price   \n",
       "1      1000000001  2023-03-01 13:01:21   Michelle Carlson   \n",
       "2      1000000002  2024-03-21 15:37:04        Lisa Graves   \n",
       "3      1000000003  2020-10-31 09:59:47  Mrs. Patricia May   \n",
       "4      1000000004  2020-12-10 00:59:59     Susan Mitchell   \n",
       "\n",
       "                                             Product  Total_Items  Total_Cost  \\\n",
       "0        ['Ketchup', 'Shaving Cream', 'Light Bulbs']            3       71.65   \n",
       "1  ['Ice Cream', 'Milk', 'Olive Oil', 'Bread', 'P...            2       25.93   \n",
       "2                                        ['Spinach']            6       41.49   \n",
       "3                             ['Tissues', 'Mustard']            1       39.34   \n",
       "4                                      ['Dish Soap']           10       16.42   \n",
       "\n",
       "   Payment_Method           City        Store_Type  Discount_Applied  \\\n",
       "0  Mobile Payment    Los Angeles    Warehouse Club              True   \n",
       "1            Cash  San Francisco   Specialty Store              True   \n",
       "2     Credit Card        Houston  Department Store              True   \n",
       "3  Mobile Payment        Chicago          Pharmacy              True   \n",
       "4      Debit Card        Houston   Specialty Store             False   \n",
       "\n",
       "  Customer_Category  Season                   Promotion  \n",
       "0         Homemaker  Winter                         NaN  \n",
       "1      Professional    Fall      BOGO (Buy One Get One)  \n",
       "2      Professional  Winter                         NaN  \n",
       "3         Homemaker  Spring                         NaN  \n",
       "4       Young Adult  Winter  Discount on Selected Items  "
      ]
     },
     "execution_count": 509,
     "metadata": {},
     "output_type": "execute_result"
    }
   ],
   "source": [
    "df.head()"
   ]
  },
  {
   "cell_type": "markdown",
   "id": "edde8e1d-c4f3-43ac-a599-e653f0fbcf90",
   "metadata": {},
   "source": [
    "#### Data Preprocessing"
   ]
  },
  {
   "cell_type": "code",
   "execution_count": 510,
   "id": "04b4edd0-b7ec-4e74-97f4-50650c5e6e14",
   "metadata": {},
   "outputs": [
    {
     "name": "stdout",
     "output_type": "stream",
     "text": [
      "<class 'pandas.core.frame.DataFrame'>\n",
      "RangeIndex: 1000 entries, 0 to 999\n",
      "Data columns (total 13 columns):\n",
      " #   Column             Non-Null Count  Dtype  \n",
      "---  ------             --------------  -----  \n",
      " 0   Transaction_ID     1000 non-null   int64  \n",
      " 1   Date               1000 non-null   object \n",
      " 2   Customer_Name      1000 non-null   object \n",
      " 3   Product            1000 non-null   object \n",
      " 4   Total_Items        1000 non-null   int64  \n",
      " 5   Total_Cost         1000 non-null   float64\n",
      " 6   Payment_Method     1000 non-null   object \n",
      " 7   City               1000 non-null   object \n",
      " 8   Store_Type         1000 non-null   object \n",
      " 9   Discount_Applied   1000 non-null   bool   \n",
      " 10  Customer_Category  1000 non-null   object \n",
      " 11  Season             1000 non-null   object \n",
      " 12  Promotion          643 non-null    object \n",
      "dtypes: bool(1), float64(1), int64(2), object(9)\n",
      "memory usage: 94.9+ KB\n"
     ]
    }
   ],
   "source": [
    "df.info()"
   ]
  },
  {
   "cell_type": "code",
   "execution_count": 511,
   "id": "a4876042-0138-44bc-bd9f-3f23d300aef5",
   "metadata": {},
   "outputs": [
    {
     "data": {
      "text/plain": [
       "Index(['Transaction_ID', 'Date', 'Customer_Name', 'Product', 'Total_Items',\n",
       "       'Total_Cost', 'Payment_Method', 'City', 'Store_Type',\n",
       "       'Discount_Applied', 'Customer_Category', 'Season', 'Promotion'],\n",
       "      dtype='object')"
      ]
     },
     "execution_count": 511,
     "metadata": {},
     "output_type": "execute_result"
    }
   ],
   "source": [
    "df.columns"
   ]
  },
  {
   "cell_type": "code",
   "execution_count": 512,
   "id": "b6deb909-a4d6-4c2d-913d-539dc5f43b51",
   "metadata": {},
   "outputs": [],
   "source": [
    "#droping product column\n",
    "df.drop('Product',axis=1,inplace=True)"
   ]
  },
  {
   "cell_type": "code",
   "execution_count": 513,
   "id": "54acbcbd-e9f6-4475-a1d7-7b1792b116f5",
   "metadata": {},
   "outputs": [],
   "source": [
    "#changing date column's format\n",
    "df['Date']=pd.to_datetime(df['Date'])"
   ]
  },
  {
   "cell_type": "code",
   "execution_count": 514,
   "id": "cc4bf69f-6000-40e5-8975-d3fce334fd1f",
   "metadata": {},
   "outputs": [
    {
     "data": {
      "text/plain": [
       "0"
      ]
     },
     "execution_count": 514,
     "metadata": {},
     "output_type": "execute_result"
    }
   ],
   "source": [
    "#checking duplicates\n",
    "df.duplicated().sum()"
   ]
  },
  {
   "cell_type": "code",
   "execution_count": 515,
   "id": "c40b2ae7-a855-4ac1-8324-41d5524e6f83",
   "metadata": {},
   "outputs": [
    {
     "data": {
      "text/plain": [
       "Transaction_ID         0\n",
       "Date                   0\n",
       "Customer_Name          0\n",
       "Total_Items            0\n",
       "Total_Cost             0\n",
       "Payment_Method         0\n",
       "City                   0\n",
       "Store_Type             0\n",
       "Discount_Applied       0\n",
       "Customer_Category      0\n",
       "Season                 0\n",
       "Promotion            357\n",
       "dtype: int64"
      ]
     },
     "execution_count": 515,
     "metadata": {},
     "output_type": "execute_result"
    }
   ],
   "source": [
    "#checking null values\n",
    "df.isnull().sum()"
   ]
  },
  {
   "cell_type": "code",
   "execution_count": 516,
   "id": "5e5107fc-c5e3-4f8c-992c-50387190d420",
   "metadata": {},
   "outputs": [],
   "source": [
    "#filling promotion column's null data with No Promotion\n",
    "df['Promotion']=df['Promotion'].fillna(\"No Promotion\")"
   ]
  },
  {
   "cell_type": "markdown",
   "id": "190e2321-29c2-4e94-997d-64e16749e487",
   "metadata": {},
   "source": [
    "#### Analytical data"
   ]
  },
  {
   "cell_type": "code",
   "execution_count": 517,
   "id": "bb99ab26-0255-41f6-a0d2-4c30eca490c7",
   "metadata": {},
   "outputs": [
    {
     "data": {
      "text/html": [
       "<div>\n",
       "<style scoped>\n",
       "    .dataframe tbody tr th:only-of-type {\n",
       "        vertical-align: middle;\n",
       "    }\n",
       "\n",
       "    .dataframe tbody tr th {\n",
       "        vertical-align: top;\n",
       "    }\n",
       "\n",
       "    .dataframe thead th {\n",
       "        text-align: right;\n",
       "    }\n",
       "</style>\n",
       "<table border=\"1\" class=\"dataframe\">\n",
       "  <thead>\n",
       "    <tr style=\"text-align: right;\">\n",
       "      <th>City</th>\n",
       "      <th>Atlanta</th>\n",
       "      <th>Boston</th>\n",
       "      <th>Chicago</th>\n",
       "      <th>Dallas</th>\n",
       "      <th>Houston</th>\n",
       "      <th>Los Angeles</th>\n",
       "      <th>Miami</th>\n",
       "      <th>New York</th>\n",
       "      <th>San Francisco</th>\n",
       "      <th>Seattle</th>\n",
       "    </tr>\n",
       "    <tr>\n",
       "      <th>Season</th>\n",
       "      <th></th>\n",
       "      <th></th>\n",
       "      <th></th>\n",
       "      <th></th>\n",
       "      <th></th>\n",
       "      <th></th>\n",
       "      <th></th>\n",
       "      <th></th>\n",
       "      <th></th>\n",
       "      <th></th>\n",
       "    </tr>\n",
       "  </thead>\n",
       "  <tbody>\n",
       "    <tr>\n",
       "      <th>Fall</th>\n",
       "      <td>94</td>\n",
       "      <td>134</td>\n",
       "      <td>128</td>\n",
       "      <td>152</td>\n",
       "      <td>105</td>\n",
       "      <td>171</td>\n",
       "      <td>159</td>\n",
       "      <td>159</td>\n",
       "      <td>198</td>\n",
       "      <td>147</td>\n",
       "    </tr>\n",
       "    <tr>\n",
       "      <th>Spring</th>\n",
       "      <td>148</td>\n",
       "      <td>121</td>\n",
       "      <td>147</td>\n",
       "      <td>151</td>\n",
       "      <td>160</td>\n",
       "      <td>115</td>\n",
       "      <td>132</td>\n",
       "      <td>95</td>\n",
       "      <td>157</td>\n",
       "      <td>176</td>\n",
       "    </tr>\n",
       "    <tr>\n",
       "      <th>Summer</th>\n",
       "      <td>98</td>\n",
       "      <td>110</td>\n",
       "      <td>141</td>\n",
       "      <td>89</td>\n",
       "      <td>115</td>\n",
       "      <td>161</td>\n",
       "      <td>130</td>\n",
       "      <td>109</td>\n",
       "      <td>148</td>\n",
       "      <td>117</td>\n",
       "    </tr>\n",
       "    <tr>\n",
       "      <th>Winter</th>\n",
       "      <td>178</td>\n",
       "      <td>115</td>\n",
       "      <td>208</td>\n",
       "      <td>157</td>\n",
       "      <td>145</td>\n",
       "      <td>166</td>\n",
       "      <td>152</td>\n",
       "      <td>54</td>\n",
       "      <td>205</td>\n",
       "      <td>156</td>\n",
       "    </tr>\n",
       "  </tbody>\n",
       "</table>\n",
       "</div>"
      ],
      "text/plain": [
       "City    Atlanta  Boston  Chicago  Dallas  Houston  Los Angeles  Miami  \\\n",
       "Season                                                                  \n",
       "Fall         94     134      128     152      105          171    159   \n",
       "Spring      148     121      147     151      160          115    132   \n",
       "Summer       98     110      141      89      115          161    130   \n",
       "Winter      178     115      208     157      145          166    152   \n",
       "\n",
       "City    New York  San Francisco  Seattle  \n",
       "Season                                    \n",
       "Fall         159            198      147  \n",
       "Spring        95            157      176  \n",
       "Summer       109            148      117  \n",
       "Winter        54            205      156  "
      ]
     },
     "execution_count": 517,
     "metadata": {},
     "output_type": "execute_result"
    }
   ],
   "source": [
    "# season vs city Count total items\n",
    "df.pivot_table(values='Total_Items',index='Season',columns='City',aggfunc='sum')"
   ]
  },
  {
   "cell_type": "markdown",
   "id": "c519ed6e-8e41-42d2-a19d-161b10ce2fb2",
   "metadata": {},
   "source": [
    "There is always a minimum no of sales in the summer and maximum no of sales in winter"
   ]
  },
  {
   "cell_type": "code",
   "execution_count": 518,
   "id": "bb791856-fac5-4e76-b2b3-df0744800ecd",
   "metadata": {},
   "outputs": [
    {
     "data": {
      "text/html": [
       "<div>\n",
       "<style scoped>\n",
       "    .dataframe tbody tr th:only-of-type {\n",
       "        vertical-align: middle;\n",
       "    }\n",
       "\n",
       "    .dataframe tbody tr th {\n",
       "        vertical-align: top;\n",
       "    }\n",
       "\n",
       "    .dataframe thead th {\n",
       "        text-align: right;\n",
       "    }\n",
       "</style>\n",
       "<table border=\"1\" class=\"dataframe\">\n",
       "  <thead>\n",
       "    <tr style=\"text-align: right;\">\n",
       "      <th></th>\n",
       "      <th>Total_Cost</th>\n",
       "      <th>Total_Items</th>\n",
       "      <th>Transaction_ID</th>\n",
       "    </tr>\n",
       "    <tr>\n",
       "      <th>City</th>\n",
       "      <th></th>\n",
       "      <th></th>\n",
       "      <th></th>\n",
       "    </tr>\n",
       "  </thead>\n",
       "  <tbody>\n",
       "    <tr>\n",
       "      <th>Atlanta</th>\n",
       "      <td>4577.86</td>\n",
       "      <td>518</td>\n",
       "      <td>90</td>\n",
       "    </tr>\n",
       "    <tr>\n",
       "      <th>Boston</th>\n",
       "      <td>4775.43</td>\n",
       "      <td>480</td>\n",
       "      <td>86</td>\n",
       "    </tr>\n",
       "    <tr>\n",
       "      <th>Chicago</th>\n",
       "      <td>5554.17</td>\n",
       "      <td>624</td>\n",
       "      <td>110</td>\n",
       "    </tr>\n",
       "    <tr>\n",
       "      <th>Dallas</th>\n",
       "      <td>5160.77</td>\n",
       "      <td>549</td>\n",
       "      <td>103</td>\n",
       "    </tr>\n",
       "    <tr>\n",
       "      <th>Houston</th>\n",
       "      <td>5025.67</td>\n",
       "      <td>525</td>\n",
       "      <td>94</td>\n",
       "    </tr>\n",
       "    <tr>\n",
       "      <th>Los Angeles</th>\n",
       "      <td>5551.83</td>\n",
       "      <td>613</td>\n",
       "      <td>108</td>\n",
       "    </tr>\n",
       "    <tr>\n",
       "      <th>Miami</th>\n",
       "      <td>6008.34</td>\n",
       "      <td>573</td>\n",
       "      <td>104</td>\n",
       "    </tr>\n",
       "    <tr>\n",
       "      <th>New York</th>\n",
       "      <td>3882.62</td>\n",
       "      <td>417</td>\n",
       "      <td>76</td>\n",
       "    </tr>\n",
       "    <tr>\n",
       "      <th>San Francisco</th>\n",
       "      <td>6986.52</td>\n",
       "      <td>708</td>\n",
       "      <td>125</td>\n",
       "    </tr>\n",
       "    <tr>\n",
       "      <th>Seattle</th>\n",
       "      <td>5195.44</td>\n",
       "      <td>596</td>\n",
       "      <td>104</td>\n",
       "    </tr>\n",
       "  </tbody>\n",
       "</table>\n",
       "</div>"
      ],
      "text/plain": [
       "               Total_Cost  Total_Items  Transaction_ID\n",
       "City                                                  \n",
       "Atlanta           4577.86          518              90\n",
       "Boston            4775.43          480              86\n",
       "Chicago           5554.17          624             110\n",
       "Dallas            5160.77          549             103\n",
       "Houston           5025.67          525              94\n",
       "Los Angeles       5551.83          613             108\n",
       "Miami             6008.34          573             104\n",
       "New York          3882.62          417              76\n",
       "San Francisco     6986.52          708             125\n",
       "Seattle           5195.44          596             104"
      ]
     },
     "execution_count": 518,
     "metadata": {},
     "output_type": "execute_result"
    }
   ],
   "source": [
    "#checking costs and items by city\n",
    "df.pivot_table(index='City',values=['Transaction_ID','Total_Items','Total_Cost'],\n",
    "               aggfunc={'Transaction_ID': 'count', 'Total_Items': 'sum', 'Total_Cost': 'sum'})"
   ]
  },
  {
   "cell_type": "code",
   "execution_count": 519,
   "id": "1d36b50d-27ad-4cf6-b0a6-e206973fc7ec",
   "metadata": {},
   "outputs": [
    {
     "data": {
      "text/html": [
       "<div>\n",
       "<style scoped>\n",
       "    .dataframe tbody tr th:only-of-type {\n",
       "        vertical-align: middle;\n",
       "    }\n",
       "\n",
       "    .dataframe tbody tr th {\n",
       "        vertical-align: top;\n",
       "    }\n",
       "\n",
       "    .dataframe thead th {\n",
       "        text-align: right;\n",
       "    }\n",
       "</style>\n",
       "<table border=\"1\" class=\"dataframe\">\n",
       "  <thead>\n",
       "    <tr style=\"text-align: right;\">\n",
       "      <th></th>\n",
       "      <th>Total_Items</th>\n",
       "      <th>Transaction_ID</th>\n",
       "    </tr>\n",
       "    <tr>\n",
       "      <th>Season</th>\n",
       "      <th></th>\n",
       "      <th></th>\n",
       "    </tr>\n",
       "  </thead>\n",
       "  <tbody>\n",
       "    <tr>\n",
       "      <th>Fall</th>\n",
       "      <td>1447</td>\n",
       "      <td>257</td>\n",
       "    </tr>\n",
       "    <tr>\n",
       "      <th>Spring</th>\n",
       "      <td>1402</td>\n",
       "      <td>253</td>\n",
       "    </tr>\n",
       "    <tr>\n",
       "      <th>Summer</th>\n",
       "      <td>1218</td>\n",
       "      <td>216</td>\n",
       "    </tr>\n",
       "    <tr>\n",
       "      <th>Winter</th>\n",
       "      <td>1536</td>\n",
       "      <td>274</td>\n",
       "    </tr>\n",
       "  </tbody>\n",
       "</table>\n",
       "</div>"
      ],
      "text/plain": [
       "        Total_Items  Transaction_ID\n",
       "Season                             \n",
       "Fall           1447             257\n",
       "Spring         1402             253\n",
       "Summer         1218             216\n",
       "Winter         1536             274"
      ]
     },
     "execution_count": 519,
     "metadata": {},
     "output_type": "execute_result"
    }
   ],
   "source": [
    "#items sold in whole season\n",
    "df.pivot_table(index='Season',values=['Transaction_ID','Total_Items'],aggfunc={'Transaction_ID':'count','Total_Items':'sum'})"
   ]
  },
  {
   "cell_type": "code",
   "execution_count": 541,
   "id": "b62aff04-d51b-47ce-9996-4e84873cb22b",
   "metadata": {},
   "outputs": [
    {
     "data": {
      "image/png": "[encoded data removed]",
      "text/plain": [
       "<Figure size 640x480 with 1 Axes>"
      ]
     },
     "metadata": {},
     "output_type": "display_data"
    }
   ],
   "source": [
    "#visualizing payment methods with no of users\n",
    "paym=df.pivot_table(index='Payment_Method',values='Transaction_ID',aggfunc='count',sort=False)\n",
    "paym.plot(kind='bar')\n",
    "plt.xticks(rotation=30)\n",
    "plt.savefig(\"fig\")"
   ]
  },
  {
   "cell_type": "code",
   "execution_count": null,
   "id": "facaf552-4ff8-4d70-a499-bd8a3dbc6aa8",
   "metadata": {},
   "outputs": [],
   "source": []
  },
  {
   "cell_type": "code",
   "execution_count": 542,
   "id": "9cb13eac-c9ef-4f84-8d39-962739684a1c",
   "metadata": {},
   "outputs": [
    {
     "data": {
      "text/plain": [
       "<Axes: xlabel='City'>"
      ]
     },
     "execution_count": 542,
     "metadata": {},
     "output_type": "execute_result"
    },
    {
     "data": {
      "image/png": "[encoded data removed]",
      "text/plain": [
       "<Figure size 640x480 with 1 Axes>"
      ]
     },
     "metadata": {},
     "output_type": "display_data"
    }
   ],
   "source": [
    "#no of store in cities\n",
    "s_type=df.pivot_table(index='City',values='Store_Type',aggfunc='count')\n",
    "s_type.plot()"
   ]
  },
  {
   "cell_type": "code",
   "execution_count": 528,
   "id": "9996a4eb-09dc-44c5-81d8-ae6374f9b517",
   "metadata": {},
   "outputs": [
    {
     "data": {
      "text/plain": [
       "<Axes: xlabel='Season'>"
      ]
     },
     "execution_count": 528,
     "metadata": {},
     "output_type": "execute_result"
    },
    {
     "data": {
      "image/png": "[encoded data removed]",
      "text/plain": [
       "<Figure size 640x480 with 1 Axes>"
      ]
     },
     "metadata": {},
     "output_type": "display_data"
    }
   ],
   "source": [
    "#discount and no discount in seasons\n",
    "dis_y=df[df['Discount_Applied']==True]\n",
    "dis_n=df[df['Discount_Applied']==False]\n",
    "\n",
    "d1=dis_y.pivot_table(index='Season',values='Discount_Applied',aggfunc='count')\n",
    "d2=dis_n.pivot_table(index='Season',values='Discount_Applied',aggfunc='count')\n",
    "dd=pd.merge(d1,d2,on='Season')\n",
    "dd.plot()"
   ]
  },
  {
   "cell_type": "code",
   "execution_count": 523,
   "id": "f98456a3-6973-43db-88fa-f5d8e519463d",
   "metadata": {},
   "outputs": [
    {
     "data": {
      "text/plain": [
       "<Axes: xlabel='Date'>"
      ]
     },
     "execution_count": 523,
     "metadata": {},
     "output_type": "execute_result"
    },
    {
     "data": {
      "image/png": "[encoded data removed]",
      "text/plain": [
       "<Figure size 640x480 with 1 Axes>"
      ]
     },
     "metadata": {},
     "output_type": "display_data"
    }
   ],
   "source": [
    "#monthly transactions and sold items\n",
    "month=df['Date'].dt.month_name()\n",
    "monthly=df.pivot_table(index=month,values=['Transaction_ID','Total_Items'],aggfunc={'Transaction_ID':'count','Total_Items':'sum'})\n",
    "monthly.plot(kind='bar')"
   ]
  },
  {
   "cell_type": "code",
   "execution_count": 524,
   "id": "ee34881a-b1f9-473f-ae3e-9339d0fd9b61",
   "metadata": {},
   "outputs": [
    {
     "data": {
      "text/html": [
       "<div>\n",
       "<style scoped>\n",
       "    .dataframe tbody tr th:only-of-type {\n",
       "        vertical-align: middle;\n",
       "    }\n",
       "\n",
       "    .dataframe tbody tr th {\n",
       "        vertical-align: top;\n",
       "    }\n",
       "\n",
       "    .dataframe thead th {\n",
       "        text-align: right;\n",
       "    }\n",
       "</style>\n",
       "<table border=\"1\" class=\"dataframe\">\n",
       "  <thead>\n",
       "    <tr style=\"text-align: right;\">\n",
       "      <th></th>\n",
       "      <th>Customer_Name</th>\n",
       "      <th>Total_Items</th>\n",
       "      <th>Total_Cost</th>\n",
       "    </tr>\n",
       "  </thead>\n",
       "  <tbody>\n",
       "    <tr>\n",
       "      <th>0</th>\n",
       "      <td>James Smith</td>\n",
       "      <td>26</td>\n",
       "      <td>149.29</td>\n",
       "    </tr>\n",
       "    <tr>\n",
       "      <th>1</th>\n",
       "      <td>Melissa Freeman</td>\n",
       "      <td>15</td>\n",
       "      <td>107.81</td>\n",
       "    </tr>\n",
       "    <tr>\n",
       "      <th>2</th>\n",
       "      <td>Michele Davis</td>\n",
       "      <td>14</td>\n",
       "      <td>102.88</td>\n",
       "    </tr>\n",
       "    <tr>\n",
       "      <th>3</th>\n",
       "      <td>Michael Johnson</td>\n",
       "      <td>14</td>\n",
       "      <td>141.37</td>\n",
       "    </tr>\n",
       "    <tr>\n",
       "      <th>4</th>\n",
       "      <td>Jessica Crawford</td>\n",
       "      <td>13</td>\n",
       "      <td>103.56</td>\n",
       "    </tr>\n",
       "    <tr>\n",
       "      <th>5</th>\n",
       "      <td>Derrick Chen</td>\n",
       "      <td>10</td>\n",
       "      <td>75.92</td>\n",
       "    </tr>\n",
       "    <tr>\n",
       "      <th>6</th>\n",
       "      <td>Victor Stein</td>\n",
       "      <td>10</td>\n",
       "      <td>64.22</td>\n",
       "    </tr>\n",
       "    <tr>\n",
       "      <th>7</th>\n",
       "      <td>Kimberly Gomez</td>\n",
       "      <td>10</td>\n",
       "      <td>96.09</td>\n",
       "    </tr>\n",
       "    <tr>\n",
       "      <th>8</th>\n",
       "      <td>Andrea Weeks</td>\n",
       "      <td>10</td>\n",
       "      <td>45.61</td>\n",
       "    </tr>\n",
       "    <tr>\n",
       "      <th>9</th>\n",
       "      <td>Christopher Small</td>\n",
       "      <td>10</td>\n",
       "      <td>71.17</td>\n",
       "    </tr>\n",
       "  </tbody>\n",
       "</table>\n",
       "</div>"
      ],
      "text/plain": [
       "       Customer_Name  Total_Items  Total_Cost\n",
       "0        James Smith           26      149.29\n",
       "1    Melissa Freeman           15      107.81\n",
       "2      Michele Davis           14      102.88\n",
       "3    Michael Johnson           14      141.37\n",
       "4   Jessica Crawford           13      103.56\n",
       "5       Derrick Chen           10       75.92\n",
       "6       Victor Stein           10       64.22\n",
       "7     Kimberly Gomez           10       96.09\n",
       "8       Andrea Weeks           10       45.61\n",
       "9  Christopher Small           10       71.17"
      ]
     },
     "execution_count": 524,
     "metadata": {},
     "output_type": "execute_result"
    }
   ],
   "source": [
    "#heavy shoppers with their costs and total items\n",
    "cust=df.groupby('Customer_Name',sort=False)[['Total_Items','Total_Cost']].sum()\n",
    "sorted=cust.sort_values(by='Total_Items', ascending=False)\n",
    "sorted.head(10).reset_index()"
   ]
  },
  {
   "cell_type": "code",
   "execution_count": 540,
   "id": "19137e50-159a-49eb-b98d-1bef000aa7f8",
   "metadata": {},
   "outputs": [
    {
     "data": {
      "image/png": "[encoded data removed]",
      "text/plain": [
       "<Figure size 640x480 with 1 Axes>"
      ]
     },
     "metadata": {},
     "output_type": "display_data"
    }
   ],
   "source": [
    "#promotion with their transactions\n",
    "prom=df.groupby('Promotion')['Transaction_ID'].count()\n",
    "prom.plot()\n",
    "plt.savefig('figure_1.jpg', dpi=300)"
   ]
  },
  {
   "cell_type": "code",
   "execution_count": 526,
   "id": "affa5bf7-4a13-484d-963e-3824aaca1087",
   "metadata": {},
   "outputs": [
    {
     "data": {
      "text/plain": [
       "Customer_Category\n",
       "Senior Citizen    6847.91\n",
       "Teenager          6803.86\n",
       "Homemaker         6688.73\n",
       "Young Adult       6619.92\n",
       "Student           6541.71\n",
       "Middle-Aged       6511.28\n",
       "Professional      6428.38\n",
       "Retiree           6276.86\n",
       "Name: Total_Cost, dtype: float64"
      ]
     },
     "execution_count": 526,
     "metadata": {},
     "output_type": "execute_result"
    }
   ],
   "source": [
    "#customer segmentation with their transactions\n",
    "value=df.groupby('Customer_Category')['Total_Cost'].sum()\n",
    "sorted=value.sort_values(ascending=False)\n",
    "sorted"
   ]
  },
  {
   "cell_type": "code",
   "execution_count": 527,
   "id": "cd2d9062-32ff-483c-b998-343cea1ee867",
   "metadata": {},
   "outputs": [
    {
     "data": {
      "text/plain": [
       "Store_Type\n",
       "Convenience Store    9658.78\n",
       "Department Store     9386.65\n",
       "Supermarket          8694.25\n",
       "Specialty Store      8575.86\n",
       "Pharmacy             8505.58\n",
       "Warehouse Club       7897.53\n",
       "Name: Total_Cost, dtype: float64"
      ]
     },
     "execution_count": 527,
     "metadata": {},
     "output_type": "execute_result"
    }
   ],
   "source": [
    "#store type with total costs\n",
    "value=df.groupby('Store_Type')['Total_Cost'].sum()\n",
    "sorted=value.sort_values(ascending=False)\n",
    "sorted"
   ]
  },
  {
   "cell_type": "code",
   "execution_count": null,
   "id": "8749cd77-51d6-47bd-a27f-cf2cdc86fdfc",
   "metadata": {},
   "outputs": [],
   "source": []
  }
 ],
 "metadata": {
  "kernelspec": {
   "display_name": "Python 3 (ipykernel)",
   "language": "python",
   "name": "python3"
  },
  "language_info": {
   "codemirror_mode": {
    "name": "ipython",
    "version": 3
   },
   "file_extension": ".py",
   "mimetype": "text/x-python",
   "name": "python",
   "nbconvert_exporter": "python",
   "pygments_lexer": "ipython3",
   "version": "3.12.4"
  }
 },
 "nbformat": 4,
 "nbformat_minor": 5
}
